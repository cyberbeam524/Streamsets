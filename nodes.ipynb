{
 "cells": [
  {
   "cell_type": "code",
   "execution_count": null,
   "metadata": {},
   "outputs": [],
   "source": []
  },
  {
   "cell_type": "code",
   "execution_count": null,
   "metadata": {},
   "outputs": [],
   "source": [
    "Given the head pointer of the singly linked list and the value of a node to delete, define a function to delete the node.\n",
    "\n",
    "Returns the head node of the deleted linked list.\n",
    "\n",
    "\n",
    "Example 1:\n",
    "\n",
    "Input: head = [4,5,1,9], val = 5\n",
    "Output: [4,1,9]\n",
    "Explanation: Given the second node in your linked list with value 5, after calling your function, the linked list should be 4 -> 1 -> 9.\n",
    "Example 2:\n",
    "\n",
    "Input: head = [4,5,1,9], val = 1\n",
    "Output: [4,5,9]\n",
    "Explanation: Given the third node in your linked list with value 1"
   ]
  },
  {
   "cell_type": "code",
   "execution_count": 12,
   "metadata": {},
   "outputs": [
    {
     "name": "stdout",
     "output_type": "stream",
     "text": [
      "4\n",
      "5\n",
      "9\n"
     ]
    }
   ],
   "source": [
    "class Node:\n",
    "    def __init__(self, val):\n",
    "        self.next = None\n",
    "        self.val = val\n",
    "\n",
    "\n",
    "testcases = [[[4,5,1,9], 5],\n",
    "[[4,5,1,9], 1]]\n",
    "\n",
    "testcase1_list, testcase1_val = testcases[1]\n",
    "head = start = Node(testcase1_list[0])\n",
    "for i in testcase1_list[1:]:\n",
    "    # print(i)\n",
    "    head.next = Node(i)\n",
    "    head = head.next\n",
    "\n",
    "# while start.next != None:\n",
    "#     print(start.val)\n",
    "#     start = start.next\n",
    "\n",
    "\n",
    "def removingNode(node, val):\n",
    "    head = start = node\n",
    "    parent = None\n",
    "    while head.next != None:\n",
    "        if head.val == val:\n",
    "            parent.next = head.next\n",
    "            break\n",
    "        parent = head\n",
    "        head = head.next\n",
    "    return start\n",
    "\n",
    "result = removingNode(start, testcase1_val)\n",
    "\n",
    "while result.next != None:\n",
    "    print(result.val)\n",
    "    result = result.next\n",
    "print(result.val)\n",
    "# result\n",
    "\n"
   ]
  },
  {
   "cell_type": "code",
   "execution_count": null,
   "metadata": {},
   "outputs": [],
   "source": []
  },
  {
   "cell_type": "code",
   "execution_count": null,
   "metadata": {},
   "outputs": [],
   "source": []
  },
  {
   "cell_type": "code",
   "execution_count": null,
   "metadata": {},
   "outputs": [],
   "source": []
  },
  {
   "cell_type": "code",
   "execution_count": null,
   "metadata": {},
   "outputs": [],
   "source": []
  }
 ],
 "metadata": {
  "kernelspec": {
   "display_name": "Python 3.9.15 64-bit ('venv')",
   "language": "python",
   "name": "python3"
  },
  "language_info": {
   "codemirror_mode": {
    "name": "ipython",
    "version": 3
   },
   "file_extension": ".py",
   "mimetype": "text/x-python",
   "name": "python",
   "nbconvert_exporter": "python",
   "pygments_lexer": "ipython3",
   "version": "3.9.15"
  },
  "orig_nbformat": 4,
  "vscode": {
   "interpreter": {
    "hash": "93095ec1c47a517930eb5e88dc74008c2fa784cd01912f7ea6fb2ce99f55e287"
   }
  }
 },
 "nbformat": 4,
 "nbformat_minor": 2
}
