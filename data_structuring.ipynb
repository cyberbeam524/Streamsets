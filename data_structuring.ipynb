{
 "cells": [
  {
   "cell_type": "code",
   "execution_count": 5,
   "metadata": {},
   "outputs": [],
   "source": [
    "import random\n",
    "import time, calendar\n",
    "from random import randint\n",
    "# from kafka import KafkaProducer\n",
    "# from kafka import errors \n",
    "from json import dumps\n",
    "from time import sleep"
   ]
  },
  {
   "cell_type": "code",
   "execution_count": 10,
   "metadata": {},
   "outputs": [],
   "source": [
    "def write_data(producer):\n",
    "    data_cnt = 2\n",
    "    order_id = calendar.timegm(time.gmtime())\n",
    "    max_price = 100000\n",
    "    topic = \"payment_msg\"\n",
    "\n",
    "    for i in range(data_cnt):\n",
    "        ts = time.strftime(\"%Y-%m-%d %H:%M:%S\", time.localtime())\n",
    "        rd = random.random()\n",
    "        order_id += 1\n",
    "        pay_amount = max_price * rd\n",
    "        pay_platform = 0 if random.random() < 0.9 else 1\n",
    "        province_id = randint(0, 6)\n",
    "        latitude = round(random.uniform(-90.0, 90.0), 2) \n",
    "        longitude = round(random.uniform(-180.0, 180.0), 2) \n",
    "        cur_data = {\"createTime\": ts, \n",
    "        \"orderId\": order_id, \n",
    "        \"payAmount\": pay_amount, \n",
    "        \"payPlatform\": pay_platform, \n",
    "        \"provinceId\": province_id,\n",
    "        \"location\": f\"{latitude},{longitude}\"\n",
    "        }\n",
    "        # producer.send(topic, value=cur_data)\n",
    "        print(cur_data)\n",
    "        sleep(0.5)"
   ]
  },
  {
   "cell_type": "code",
   "execution_count": 11,
   "metadata": {},
   "outputs": [
    {
     "name": "stdout",
     "output_type": "stream",
     "text": [
      "{'createTime': '2022-11-14 22:19:48', 'orderId': 1668435589, 'payAmount': 11809.45602607436, 'payPlatform': 0, 'provinceId': 5, 'location': '-75.35,-128.12'}\n",
      "{'createTime': '2022-11-14 22:19:49', 'orderId': 1668435590, 'payAmount': 87236.87558739287, 'payPlatform': 0, 'provinceId': 3, 'location': '-33.73,119.96'}\n"
     ]
    }
   ],
   "source": [
    "write_data(\"one\")"
   ]
  },
  {
   "cell_type": "code",
   "execution_count": 12,
   "metadata": {},
   "outputs": [],
   "source": [
    "def write_data(producer):\n",
    "    data_cnt = 2\n",
    "    order_id = calendar.timegm(time.gmtime())\n",
    "    max_price = 100000\n",
    "    topic = \"payment_msg\"\n",
    "\n",
    "    for i in range(data_cnt):\n",
    "        ts = time.strftime(\"%Y-%m-%d %H:%M:%S\", time.localtime())\n",
    "        rd = random.random()\n",
    "        order_id += 1\n",
    "        pay_amount = max_price * rd\n",
    "        pay_platform = 0 if random.random() < 0.9 else 1\n",
    "        province_id = randint(0, 6)\n",
    "        latitude = round(random.uniform(-90.0, 90.0), 2) \n",
    "        longitude = round(random.uniform(-180.0, 180.0), 2) \n",
    "        cur_data = {\"createTime\": ts, \n",
    "        \"orderId\": order_id, \n",
    "        \"payAmount\": pay_amount, \n",
    "        \"payPlatform\": pay_platform, \n",
    "        \"provinceId\": province_id,\n",
    "        \"location\": f\"POINT ({latitude} {longitude})\"\n",
    "        }\n",
    "        # producer.send(topic, value=cur_data)\n",
    "        print(cur_data)\n",
    "        sleep(0.5)"
   ]
  },
  {
   "cell_type": "code",
   "execution_count": 13,
   "metadata": {},
   "outputs": [
    {
     "name": "stdout",
     "output_type": "stream",
     "text": [
      "{'createTime': '2022-11-14 22:59:50', 'orderId': 1668437991, 'payAmount': 86326.5099000834, 'payPlatform': 0, 'provinceId': 6, 'location': 'POINT (-88.52 168.53)'}\n",
      "{'createTime': '2022-11-14 22:59:50', 'orderId': 1668437992, 'payAmount': 21608.04933069218, 'payPlatform': 0, 'provinceId': 5, 'location': 'POINT (23.0 69.32)'}\n"
     ]
    }
   ],
   "source": [
    "write_data(\"one\")"
   ]
  },
  {
   "cell_type": "code",
   "execution_count": null,
   "metadata": {},
   "outputs": [],
   "source": []
  },
  {
   "cell_type": "code",
   "execution_count": 9,
   "metadata": {},
   "outputs": [
    {
     "data": {
      "text/plain": [
       "'1668420235.0'"
      ]
     },
     "execution_count": 9,
     "metadata": {},
     "output_type": "execute_result"
    }
   ],
   "source": [
    "from datetime import datetime\n",
    "timestr = \"2022-11-14 18:03:55\"\n",
    "str(datetime.strptime(timestr, '%Y-%m-%d %H:%M:%S').timestamp())"
   ]
  },
  {
   "cell_type": "code",
   "execution_count": 2,
   "metadata": {},
   "outputs": [
    {
     "data": {
      "text/plain": [
       "1668478833302"
      ]
     },
     "execution_count": 2,
     "metadata": {},
     "output_type": "execute_result"
    }
   ],
   "source": [
    "import time\n",
    "round(time.time() * 1000)"
   ]
  },
  {
   "cell_type": "code",
   "execution_count": 4,
   "metadata": {},
   "outputs": [
    {
     "data": {
      "text/plain": [
       "'1970-01-11 16:32:08.271'"
      ]
     },
     "execution_count": 4,
     "metadata": {},
     "output_type": "execute_result"
    }
   ],
   "source": [
    "s, ms = divmod(923528271, 1000)  # (1236472051, 807)\n",
    "'%s.%03d' % (time.strftime('%Y-%m-%d %H:%M:%S', time.gmtime(s)), ms)\n",
    "# 923528271"
   ]
  },
  {
   "cell_type": "code",
   "execution_count": null,
   "metadata": {},
   "outputs": [],
   "source": []
  }
 ],
 "metadata": {
  "kernelspec": {
   "display_name": "Python 3.9.15 64-bit ('venv')",
   "language": "python",
   "name": "python3"
  },
  "language_info": {
   "codemirror_mode": {
    "name": "ipython",
    "version": 3
   },
   "file_extension": ".py",
   "mimetype": "text/x-python",
   "name": "python",
   "nbconvert_exporter": "python",
   "pygments_lexer": "ipython3",
   "version": "3.9.15"
  },
  "orig_nbformat": 4,
  "vscode": {
   "interpreter": {
    "hash": "93095ec1c47a517930eb5e88dc74008c2fa784cd01912f7ea6fb2ce99f55e287"
   }
  }
 },
 "nbformat": 4,
 "nbformat_minor": 2
}
